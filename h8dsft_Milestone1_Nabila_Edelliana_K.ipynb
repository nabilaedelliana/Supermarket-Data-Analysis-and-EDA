{
  "nbformat": 4,
  "nbformat_minor": 0,
  "metadata": {
    "colab": {
      "name": "h8dsft_Milestone1_Nabila_Edelliana_K.ipynb",
      "provenance": [],
      "collapsed_sections": []
    },
    "kernelspec": {
      "name": "python3",
      "display_name": "Python 3"
    },
    "language_info": {
      "name": "python"
    }
  },
  "cells": [
    {
      "cell_type": "markdown",
      "metadata": {
        "id": "J11usfyXidDO"
      },
      "source": [
        "**Using this template**\n",
        "\n",
        "1. Change notebook title to assignment title you working on, eg. `Graded Challenge 1 or Milestone 1`\n",
        "2. Put your identity such as name and batch number below notebook title.\n",
        "3. Write your description before do any work. State your purpose of this assignment and what you are trying to achieve. \n",
        "4. Look at the rubric of this assignment and make sure you understand the criteria.\n",
        "5. Code your solution in the cell provided below the working area section.\n",
        "6. State your conlusions, findings, and any other relevant information in the cell provided below the conclusions sections.\n",
        "7. Save this notebook and rename it to assignment title you working on  eg. `Graded Challenge 1 or Milestone 1`\n",
        "8. Push your assignment before deadline.\n",
        "9. Good Luck!"
      ]
    },
    {
      "cell_type": "markdown",
      "source": [
        "**LINK WEBPAGE**\n",
        "\n",
        "https://nabila-e-k-011-p0m1.herokuapp.com"
      ],
      "metadata": {
        "id": "nf4q4uTSjfqX"
      }
    },
    {
      "cell_type": "markdown",
      "metadata": {
        "id": "yMgj9q0siUsK"
      },
      "source": [
        "# I. Perkenalan"
      ]
    },
    {
      "cell_type": "markdown",
      "metadata": {
        "id": "NRvhJ9gmiUsO"
      },
      "source": [
        "### Milestones 1\n",
        "\n",
        "- Name   : Nabila Edelliana Khairunnisa\n",
        "- Batch  : 011"
      ]
    },
    {
      "cell_type": "markdown",
      "metadata": {
        "id": "SLv5hVHxiUsR"
      },
      "source": [
        "### Description\n",
        "Project tugas ini bertujuan untuk mendalami lebih lanjut dasar-dasar data science khususnya konsep streamlit dan deployment\n",
        "\n",
        "Data yang di olah merupakan data supermarket sales. Fokus pada penelitian kali ini adalah untuk membantu tim marketing mengambil keputusan apakah perlu memberikan peningkatan fasilitas dan penawaran menarik untuk member customer sehingga rerata rating member customer meningkat dan dapat menarik pelanggan non-member untuk mendaftar menjadi member customer.\n",
        "\n",
        "### Objective\n",
        "1. Mengetahui apakah perlu ada peningkatan fasilitas dan penawaran menarik untuk member customer agar dapat meningkatkan pendaftaran pelanggan untuk menjadi member customer.\n",
        "\n",
        "### Problem Statement\n",
        "\n",
        "1. Apakah terdapat perbedaan yang signifikan antara rerata rating dari member customer dan non-member customer?"
      ]
    },
    {
      "cell_type": "markdown",
      "metadata": {
        "id": "Jr2E6590idDg"
      },
      "source": [
        "## Working Area\n",
        "\n",
        "```txt\n",
        "Put your code, analysis, everything below this line\n",
        "\n",
        "Make sure to check everything the rubric requires before you submit\n",
        "```"
      ]
    },
    {
      "cell_type": "markdown",
      "metadata": {
        "id": "AZH4coWsiUsU"
      },
      "source": [
        "# II. Import Pustaka yang Dibutuhkan"
      ]
    },
    {
      "cell_type": "code",
      "execution_count": 31,
      "metadata": {
        "id": "thA390xOiUsX"
      },
      "outputs": [],
      "source": [
        "import numpy as np\n",
        "import pandas as pd\n",
        "from scipy import stats\n",
        "import matplotlib.pyplot as plt\n",
        "import seaborn as sns"
      ]
    },
    {
      "cell_type": "markdown",
      "source": [
        "# III. Data Loading"
      ],
      "metadata": {
        "id": "h1hlV1VyyyPE"
      }
    },
    {
      "cell_type": "markdown",
      "source": [
        "### 3.1. Mengimpor data csv"
      ],
      "metadata": {
        "id": "6tmDliAo3Ilv"
      }
    },
    {
      "cell_type": "code",
      "execution_count": 32,
      "metadata": {
        "id": "jlE9esXZidDi",
        "colab": {
          "base_uri": "https://localhost:8080/"
        },
        "outputId": "e8db2fcb-a031-4b30-a3a7-fa9279e77aad"
      },
      "outputs": [
        {
          "output_type": "execute_result",
          "data": {
            "text/plain": [
              "(1000, 17)"
            ]
          },
          "metadata": {},
          "execution_count": 32
        }
      ],
      "source": [
        "df = pd.read_csv('https://raw.githubusercontent.com/nabilaedelliana/learning_journal/main/phase_0/week_4/supermarket_sales-Sheet1.csv')\n",
        "df.head()\n",
        "df.shape"
      ]
    },
    {
      "cell_type": "markdown",
      "source": [
        "### 3.2. Melihat overview data"
      ],
      "metadata": {
        "id": "AlIl0Ya3XSuT"
      }
    },
    {
      "cell_type": "code",
      "execution_count": 33,
      "metadata": {
        "id": "40gStix3idDk",
        "colab": {
          "base_uri": "https://localhost:8080/"
        },
        "outputId": "04c30915-99d4-496f-eda7-d49db89b4abe"
      },
      "outputs": [
        {
          "output_type": "stream",
          "name": "stdout",
          "text": [
            "<class 'pandas.core.frame.DataFrame'>\n",
            "RangeIndex: 1000 entries, 0 to 999\n",
            "Data columns (total 17 columns):\n",
            " #   Column                   Non-Null Count  Dtype  \n",
            "---  ------                   --------------  -----  \n",
            " 0   Invoice ID               1000 non-null   object \n",
            " 1   Branch                   1000 non-null   object \n",
            " 2   City                     1000 non-null   object \n",
            " 3   Customer type            1000 non-null   object \n",
            " 4   Gender                   1000 non-null   object \n",
            " 5   Product line             1000 non-null   object \n",
            " 6   Unit price               1000 non-null   float64\n",
            " 7   Quantity                 1000 non-null   int64  \n",
            " 8   Tax 5%                   1000 non-null   float64\n",
            " 9   Total                    1000 non-null   float64\n",
            " 10  Date                     1000 non-null   object \n",
            " 11  Time                     1000 non-null   object \n",
            " 12  Payment                  1000 non-null   object \n",
            " 13  cogs                     1000 non-null   float64\n",
            " 14  gross margin percentage  1000 non-null   float64\n",
            " 15  gross income             1000 non-null   float64\n",
            " 16  Rating                   1000 non-null   float64\n",
            "dtypes: float64(7), int64(1), object(9)\n",
            "memory usage: 132.9+ KB\n"
          ]
        }
      ],
      "source": [
        "df.info()"
      ]
    },
    {
      "cell_type": "markdown",
      "source": [
        "Tidak ada missing value pada data. Lanjut ke tahap berikutnya."
      ],
      "metadata": {
        "id": "L4xXqX7o_gBc"
      }
    },
    {
      "cell_type": "markdown",
      "source": [
        "## IV. Data Cleaning"
      ],
      "metadata": {
        "id": "vlCraNUMXQFb"
      }
    },
    {
      "cell_type": "markdown",
      "source": [
        "### 4.1. Menghapus kolom yang tidak digunakan"
      ],
      "metadata": {
        "id": "NRgELRt8C27m"
      }
    },
    {
      "cell_type": "code",
      "source": [
        "# Menghapus beberapa kolom yang tidak dibutuhkan\n",
        "df.drop(['Invoice ID', 'Unit price','Quantity','Tax 5%','Total','Payment','cogs','gross margin percentage','gross income'], axis=1, inplace=True)\n",
        "df.head()"
      ],
      "metadata": {
        "colab": {
          "base_uri": "https://localhost:8080/",
          "height": 206
        },
        "id": "DSlVtrGhWgQ8",
        "outputId": "5a24f496-4816-49b4-d701-73f138833077"
      },
      "execution_count": 34,
      "outputs": [
        {
          "output_type": "execute_result",
          "data": {
            "text/plain": [
              "  Branch       City Customer type  Gender            Product line       Date  \\\n",
              "0      A     Yangon        Member  Female       Health and beauty   1/5/2019   \n",
              "1      C  Naypyitaw        Normal  Female  Electronic accessories   3/8/2019   \n",
              "2      A     Yangon        Normal    Male      Home and lifestyle   3/3/2019   \n",
              "3      A     Yangon        Member    Male       Health and beauty  1/27/2019   \n",
              "4      A     Yangon        Normal    Male       Sports and travel   2/8/2019   \n",
              "\n",
              "    Time  Rating  \n",
              "0  13:08     9.1  \n",
              "1  10:29     9.6  \n",
              "2  13:23     7.4  \n",
              "3  20:33     8.4  \n",
              "4  10:37     5.3  "
            ],
            "text/html": [
              "\n",
              "  <div id=\"df-c0a34d92-5a9d-4256-ae54-117eb08513dc\">\n",
              "    <div class=\"colab-df-container\">\n",
              "      <div>\n",
              "<style scoped>\n",
              "    .dataframe tbody tr th:only-of-type {\n",
              "        vertical-align: middle;\n",
              "    }\n",
              "\n",
              "    .dataframe tbody tr th {\n",
              "        vertical-align: top;\n",
              "    }\n",
              "\n",
              "    .dataframe thead th {\n",
              "        text-align: right;\n",
              "    }\n",
              "</style>\n",
              "<table border=\"1\" class=\"dataframe\">\n",
              "  <thead>\n",
              "    <tr style=\"text-align: right;\">\n",
              "      <th></th>\n",
              "      <th>Branch</th>\n",
              "      <th>City</th>\n",
              "      <th>Customer type</th>\n",
              "      <th>Gender</th>\n",
              "      <th>Product line</th>\n",
              "      <th>Date</th>\n",
              "      <th>Time</th>\n",
              "      <th>Rating</th>\n",
              "    </tr>\n",
              "  </thead>\n",
              "  <tbody>\n",
              "    <tr>\n",
              "      <th>0</th>\n",
              "      <td>A</td>\n",
              "      <td>Yangon</td>\n",
              "      <td>Member</td>\n",
              "      <td>Female</td>\n",
              "      <td>Health and beauty</td>\n",
              "      <td>1/5/2019</td>\n",
              "      <td>13:08</td>\n",
              "      <td>9.1</td>\n",
              "    </tr>\n",
              "    <tr>\n",
              "      <th>1</th>\n",
              "      <td>C</td>\n",
              "      <td>Naypyitaw</td>\n",
              "      <td>Normal</td>\n",
              "      <td>Female</td>\n",
              "      <td>Electronic accessories</td>\n",
              "      <td>3/8/2019</td>\n",
              "      <td>10:29</td>\n",
              "      <td>9.6</td>\n",
              "    </tr>\n",
              "    <tr>\n",
              "      <th>2</th>\n",
              "      <td>A</td>\n",
              "      <td>Yangon</td>\n",
              "      <td>Normal</td>\n",
              "      <td>Male</td>\n",
              "      <td>Home and lifestyle</td>\n",
              "      <td>3/3/2019</td>\n",
              "      <td>13:23</td>\n",
              "      <td>7.4</td>\n",
              "    </tr>\n",
              "    <tr>\n",
              "      <th>3</th>\n",
              "      <td>A</td>\n",
              "      <td>Yangon</td>\n",
              "      <td>Member</td>\n",
              "      <td>Male</td>\n",
              "      <td>Health and beauty</td>\n",
              "      <td>1/27/2019</td>\n",
              "      <td>20:33</td>\n",
              "      <td>8.4</td>\n",
              "    </tr>\n",
              "    <tr>\n",
              "      <th>4</th>\n",
              "      <td>A</td>\n",
              "      <td>Yangon</td>\n",
              "      <td>Normal</td>\n",
              "      <td>Male</td>\n",
              "      <td>Sports and travel</td>\n",
              "      <td>2/8/2019</td>\n",
              "      <td>10:37</td>\n",
              "      <td>5.3</td>\n",
              "    </tr>\n",
              "  </tbody>\n",
              "</table>\n",
              "</div>\n",
              "      <button class=\"colab-df-convert\" onclick=\"convertToInteractive('df-c0a34d92-5a9d-4256-ae54-117eb08513dc')\"\n",
              "              title=\"Convert this dataframe to an interactive table.\"\n",
              "              style=\"display:none;\">\n",
              "        \n",
              "  <svg xmlns=\"http://www.w3.org/2000/svg\" height=\"24px\"viewBox=\"0 0 24 24\"\n",
              "       width=\"24px\">\n",
              "    <path d=\"M0 0h24v24H0V0z\" fill=\"none\"/>\n",
              "    <path d=\"M18.56 5.44l.94 2.06.94-2.06 2.06-.94-2.06-.94-.94-2.06-.94 2.06-2.06.94zm-11 1L8.5 8.5l.94-2.06 2.06-.94-2.06-.94L8.5 2.5l-.94 2.06-2.06.94zm10 10l.94 2.06.94-2.06 2.06-.94-2.06-.94-.94-2.06-.94 2.06-2.06.94z\"/><path d=\"M17.41 7.96l-1.37-1.37c-.4-.4-.92-.59-1.43-.59-.52 0-1.04.2-1.43.59L10.3 9.45l-7.72 7.72c-.78.78-.78 2.05 0 2.83L4 21.41c.39.39.9.59 1.41.59.51 0 1.02-.2 1.41-.59l7.78-7.78 2.81-2.81c.8-.78.8-2.07 0-2.86zM5.41 20L4 18.59l7.72-7.72 1.47 1.35L5.41 20z\"/>\n",
              "  </svg>\n",
              "      </button>\n",
              "      \n",
              "  <style>\n",
              "    .colab-df-container {\n",
              "      display:flex;\n",
              "      flex-wrap:wrap;\n",
              "      gap: 12px;\n",
              "    }\n",
              "\n",
              "    .colab-df-convert {\n",
              "      background-color: #E8F0FE;\n",
              "      border: none;\n",
              "      border-radius: 50%;\n",
              "      cursor: pointer;\n",
              "      display: none;\n",
              "      fill: #1967D2;\n",
              "      height: 32px;\n",
              "      padding: 0 0 0 0;\n",
              "      width: 32px;\n",
              "    }\n",
              "\n",
              "    .colab-df-convert:hover {\n",
              "      background-color: #E2EBFA;\n",
              "      box-shadow: 0px 1px 2px rgba(60, 64, 67, 0.3), 0px 1px 3px 1px rgba(60, 64, 67, 0.15);\n",
              "      fill: #174EA6;\n",
              "    }\n",
              "\n",
              "    [theme=dark] .colab-df-convert {\n",
              "      background-color: #3B4455;\n",
              "      fill: #D2E3FC;\n",
              "    }\n",
              "\n",
              "    [theme=dark] .colab-df-convert:hover {\n",
              "      background-color: #434B5C;\n",
              "      box-shadow: 0px 1px 3px 1px rgba(0, 0, 0, 0.15);\n",
              "      filter: drop-shadow(0px 1px 2px rgba(0, 0, 0, 0.3));\n",
              "      fill: #FFFFFF;\n",
              "    }\n",
              "  </style>\n",
              "\n",
              "      <script>\n",
              "        const buttonEl =\n",
              "          document.querySelector('#df-c0a34d92-5a9d-4256-ae54-117eb08513dc button.colab-df-convert');\n",
              "        buttonEl.style.display =\n",
              "          google.colab.kernel.accessAllowed ? 'block' : 'none';\n",
              "\n",
              "        async function convertToInteractive(key) {\n",
              "          const element = document.querySelector('#df-c0a34d92-5a9d-4256-ae54-117eb08513dc');\n",
              "          const dataTable =\n",
              "            await google.colab.kernel.invokeFunction('convertToInteractive',\n",
              "                                                     [key], {});\n",
              "          if (!dataTable) return;\n",
              "\n",
              "          const docLinkHtml = 'Like what you see? Visit the ' +\n",
              "            '<a target=\"_blank\" href=https://colab.research.google.com/notebooks/data_table.ipynb>data table notebook</a>'\n",
              "            + ' to learn more about interactive tables.';\n",
              "          element.innerHTML = '';\n",
              "          dataTable['output_type'] = 'display_data';\n",
              "          await google.colab.output.renderOutput(dataTable, element);\n",
              "          const docLink = document.createElement('div');\n",
              "          docLink.innerHTML = docLinkHtml;\n",
              "          element.appendChild(docLink);\n",
              "        }\n",
              "      </script>\n",
              "    </div>\n",
              "  </div>\n",
              "  "
            ]
          },
          "metadata": {},
          "execution_count": 34
        }
      ]
    },
    {
      "cell_type": "markdown",
      "source": [
        "### 4.2. Memisahkan tanggal menjadi kolom tahun, bulan, dan hari"
      ],
      "metadata": {
        "id": "ZqOSzpcOC7lW"
      }
    },
    {
      "cell_type": "code",
      "source": [
        "def split_date(df):\n",
        "    df['Date']=pd.to_datetime(df['Date'])\n",
        "    df['Year']=df.Date.dt.year\n",
        "    df['Month']=df.Date.dt.month\n",
        "    df['Day']=df.Date.dt.day"
      ],
      "metadata": {
        "id": "uGmqzpqLtCdg"
      },
      "execution_count": 39,
      "outputs": []
    },
    {
      "cell_type": "code",
      "source": [
        "#Spliting our date data into day ,month and year\n",
        "split_date(df)\n",
        "#check how now our data looks like\n",
        "df.head()"
      ],
      "metadata": {
        "colab": {
          "base_uri": "https://localhost:8080/",
          "height": 250
        },
        "id": "RCe6NIQmtKxG",
        "outputId": "9d4a7e34-becc-4f70-b7af-be8c687aeca5"
      },
      "execution_count": 40,
      "outputs": [
        {
          "output_type": "execute_result",
          "data": {
            "text/plain": [
              "  Branch       City Customer type  Gender            Product line       Date  \\\n",
              "0      A     Yangon        Member  Female       Health and beauty 2019-01-05   \n",
              "1      C  Naypyitaw        Normal  Female  Electronic accessories 2019-03-08   \n",
              "2      A     Yangon        Normal    Male      Home and lifestyle 2019-03-03   \n",
              "3      A     Yangon        Member    Male       Health and beauty 2019-01-27   \n",
              "4      A     Yangon        Normal    Male       Sports and travel 2019-02-08   \n",
              "\n",
              "    Time  Rating  Year  Month  Day  \n",
              "0  13:08     9.1  2019      1    5  \n",
              "1  10:29     9.6  2019      3    8  \n",
              "2  13:23     7.4  2019      3    3  \n",
              "3  20:33     8.4  2019      1   27  \n",
              "4  10:37     5.3  2019      2    8  "
            ],
            "text/html": [
              "\n",
              "  <div id=\"df-f0d64c76-dd2d-47a6-9c92-18a6f62792af\">\n",
              "    <div class=\"colab-df-container\">\n",
              "      <div>\n",
              "<style scoped>\n",
              "    .dataframe tbody tr th:only-of-type {\n",
              "        vertical-align: middle;\n",
              "    }\n",
              "\n",
              "    .dataframe tbody tr th {\n",
              "        vertical-align: top;\n",
              "    }\n",
              "\n",
              "    .dataframe thead th {\n",
              "        text-align: right;\n",
              "    }\n",
              "</style>\n",
              "<table border=\"1\" class=\"dataframe\">\n",
              "  <thead>\n",
              "    <tr style=\"text-align: right;\">\n",
              "      <th></th>\n",
              "      <th>Branch</th>\n",
              "      <th>City</th>\n",
              "      <th>Customer type</th>\n",
              "      <th>Gender</th>\n",
              "      <th>Product line</th>\n",
              "      <th>Date</th>\n",
              "      <th>Time</th>\n",
              "      <th>Rating</th>\n",
              "      <th>Year</th>\n",
              "      <th>Month</th>\n",
              "      <th>Day</th>\n",
              "    </tr>\n",
              "  </thead>\n",
              "  <tbody>\n",
              "    <tr>\n",
              "      <th>0</th>\n",
              "      <td>A</td>\n",
              "      <td>Yangon</td>\n",
              "      <td>Member</td>\n",
              "      <td>Female</td>\n",
              "      <td>Health and beauty</td>\n",
              "      <td>2019-01-05</td>\n",
              "      <td>13:08</td>\n",
              "      <td>9.1</td>\n",
              "      <td>2019</td>\n",
              "      <td>1</td>\n",
              "      <td>5</td>\n",
              "    </tr>\n",
              "    <tr>\n",
              "      <th>1</th>\n",
              "      <td>C</td>\n",
              "      <td>Naypyitaw</td>\n",
              "      <td>Normal</td>\n",
              "      <td>Female</td>\n",
              "      <td>Electronic accessories</td>\n",
              "      <td>2019-03-08</td>\n",
              "      <td>10:29</td>\n",
              "      <td>9.6</td>\n",
              "      <td>2019</td>\n",
              "      <td>3</td>\n",
              "      <td>8</td>\n",
              "    </tr>\n",
              "    <tr>\n",
              "      <th>2</th>\n",
              "      <td>A</td>\n",
              "      <td>Yangon</td>\n",
              "      <td>Normal</td>\n",
              "      <td>Male</td>\n",
              "      <td>Home and lifestyle</td>\n",
              "      <td>2019-03-03</td>\n",
              "      <td>13:23</td>\n",
              "      <td>7.4</td>\n",
              "      <td>2019</td>\n",
              "      <td>3</td>\n",
              "      <td>3</td>\n",
              "    </tr>\n",
              "    <tr>\n",
              "      <th>3</th>\n",
              "      <td>A</td>\n",
              "      <td>Yangon</td>\n",
              "      <td>Member</td>\n",
              "      <td>Male</td>\n",
              "      <td>Health and beauty</td>\n",
              "      <td>2019-01-27</td>\n",
              "      <td>20:33</td>\n",
              "      <td>8.4</td>\n",
              "      <td>2019</td>\n",
              "      <td>1</td>\n",
              "      <td>27</td>\n",
              "    </tr>\n",
              "    <tr>\n",
              "      <th>4</th>\n",
              "      <td>A</td>\n",
              "      <td>Yangon</td>\n",
              "      <td>Normal</td>\n",
              "      <td>Male</td>\n",
              "      <td>Sports and travel</td>\n",
              "      <td>2019-02-08</td>\n",
              "      <td>10:37</td>\n",
              "      <td>5.3</td>\n",
              "      <td>2019</td>\n",
              "      <td>2</td>\n",
              "      <td>8</td>\n",
              "    </tr>\n",
              "  </tbody>\n",
              "</table>\n",
              "</div>\n",
              "      <button class=\"colab-df-convert\" onclick=\"convertToInteractive('df-f0d64c76-dd2d-47a6-9c92-18a6f62792af')\"\n",
              "              title=\"Convert this dataframe to an interactive table.\"\n",
              "              style=\"display:none;\">\n",
              "        \n",
              "  <svg xmlns=\"http://www.w3.org/2000/svg\" height=\"24px\"viewBox=\"0 0 24 24\"\n",
              "       width=\"24px\">\n",
              "    <path d=\"M0 0h24v24H0V0z\" fill=\"none\"/>\n",
              "    <path d=\"M18.56 5.44l.94 2.06.94-2.06 2.06-.94-2.06-.94-.94-2.06-.94 2.06-2.06.94zm-11 1L8.5 8.5l.94-2.06 2.06-.94-2.06-.94L8.5 2.5l-.94 2.06-2.06.94zm10 10l.94 2.06.94-2.06 2.06-.94-2.06-.94-.94-2.06-.94 2.06-2.06.94z\"/><path d=\"M17.41 7.96l-1.37-1.37c-.4-.4-.92-.59-1.43-.59-.52 0-1.04.2-1.43.59L10.3 9.45l-7.72 7.72c-.78.78-.78 2.05 0 2.83L4 21.41c.39.39.9.59 1.41.59.51 0 1.02-.2 1.41-.59l7.78-7.78 2.81-2.81c.8-.78.8-2.07 0-2.86zM5.41 20L4 18.59l7.72-7.72 1.47 1.35L5.41 20z\"/>\n",
              "  </svg>\n",
              "      </button>\n",
              "      \n",
              "  <style>\n",
              "    .colab-df-container {\n",
              "      display:flex;\n",
              "      flex-wrap:wrap;\n",
              "      gap: 12px;\n",
              "    }\n",
              "\n",
              "    .colab-df-convert {\n",
              "      background-color: #E8F0FE;\n",
              "      border: none;\n",
              "      border-radius: 50%;\n",
              "      cursor: pointer;\n",
              "      display: none;\n",
              "      fill: #1967D2;\n",
              "      height: 32px;\n",
              "      padding: 0 0 0 0;\n",
              "      width: 32px;\n",
              "    }\n",
              "\n",
              "    .colab-df-convert:hover {\n",
              "      background-color: #E2EBFA;\n",
              "      box-shadow: 0px 1px 2px rgba(60, 64, 67, 0.3), 0px 1px 3px 1px rgba(60, 64, 67, 0.15);\n",
              "      fill: #174EA6;\n",
              "    }\n",
              "\n",
              "    [theme=dark] .colab-df-convert {\n",
              "      background-color: #3B4455;\n",
              "      fill: #D2E3FC;\n",
              "    }\n",
              "\n",
              "    [theme=dark] .colab-df-convert:hover {\n",
              "      background-color: #434B5C;\n",
              "      box-shadow: 0px 1px 3px 1px rgba(0, 0, 0, 0.15);\n",
              "      filter: drop-shadow(0px 1px 2px rgba(0, 0, 0, 0.3));\n",
              "      fill: #FFFFFF;\n",
              "    }\n",
              "  </style>\n",
              "\n",
              "      <script>\n",
              "        const buttonEl =\n",
              "          document.querySelector('#df-f0d64c76-dd2d-47a6-9c92-18a6f62792af button.colab-df-convert');\n",
              "        buttonEl.style.display =\n",
              "          google.colab.kernel.accessAllowed ? 'block' : 'none';\n",
              "\n",
              "        async function convertToInteractive(key) {\n",
              "          const element = document.querySelector('#df-f0d64c76-dd2d-47a6-9c92-18a6f62792af');\n",
              "          const dataTable =\n",
              "            await google.colab.kernel.invokeFunction('convertToInteractive',\n",
              "                                                     [key], {});\n",
              "          if (!dataTable) return;\n",
              "\n",
              "          const docLinkHtml = 'Like what you see? Visit the ' +\n",
              "            '<a target=\"_blank\" href=https://colab.research.google.com/notebooks/data_table.ipynb>data table notebook</a>'\n",
              "            + ' to learn more about interactive tables.';\n",
              "          element.innerHTML = '';\n",
              "          dataTable['output_type'] = 'display_data';\n",
              "          await google.colab.output.renderOutput(dataTable, element);\n",
              "          const docLink = document.createElement('div');\n",
              "          docLink.innerHTML = docLinkHtml;\n",
              "          element.appendChild(docLink);\n",
              "        }\n",
              "      </script>\n",
              "    </div>\n",
              "  </div>\n",
              "  "
            ]
          },
          "metadata": {},
          "execution_count": 40
        }
      ]
    },
    {
      "cell_type": "markdown",
      "source": [
        "## V. Data Exploration and Visualization"
      ],
      "metadata": {
        "id": "JotMYk-cXgKI"
      }
    },
    {
      "cell_type": "code",
      "source": [
        "# Menampilkan proporsi product line menggunakan diagram pie\n",
        "viz1 = df['Product line'].value_counts().plot(kind='pie', figsize=(10,10), autopct='%.2f')\n",
        "viz1"
      ],
      "metadata": {
        "colab": {
          "base_uri": "https://localhost:8080/",
          "height": 592
        },
        "id": "QnbmRzifTxPP",
        "outputId": "a125d4ba-be67-4d25-800d-a43a12821c4b"
      },
      "execution_count": 41,
      "outputs": [
        {
          "output_type": "execute_result",
          "data": {
            "text/plain": [
              "<matplotlib.axes._subplots.AxesSubplot at 0x7fb69b3bf890>"
            ]
          },
          "metadata": {},
          "execution_count": 41
        },
        {
          "output_type": "display_data",
          "data": {
            "text/plain": [
              "<Figure size 720x720 with 1 Axes>"
            ],
            "image/png": "[encoded data removed]"
          },
          "metadata": {}
        }
      ]
    },
    {
      "cell_type": "markdown",
      "source": [
        "Proporsi jenis produk bisa dikatakan hampir seimbang. Proporsi paling besar ada di bidang fashion dan aksesoris."
      ],
      "metadata": {
        "id": "HlQytwbusntz"
      }
    },
    {
      "cell_type": "code",
      "source": [
        "# Menampilkan data rerata rating berdasarkan gender di setiap branch\n",
        "r_gb = df.groupby(['Branch','Gender'])[['Gender', 'Rating']].mean()\n",
        "r_gb"
      ],
      "metadata": {
        "colab": {
          "base_uri": "https://localhost:8080/",
          "height": 269
        },
        "id": "qE0KRe5YIMHq",
        "outputId": "fd8d0f31-02c0-4495-a186-79569225b7e2"
      },
      "execution_count": 18,
      "outputs": [
        {
          "output_type": "execute_result",
          "data": {
            "text/plain": [
              "                 Rating\n",
              "Branch Gender          \n",
              "A      Female  6.839130\n",
              "       Male    7.196089\n",
              "B      Female  6.876543\n",
              "       Male    6.762353\n",
              "C      Female  7.157865\n",
              "       Male    6.972000"
            ],
            "text/html": [
              "\n",
              "  <div id=\"df-d2e4f399-bb86-4f61-b292-e4eb1a5c14c3\">\n",
              "    <div class=\"colab-df-container\">\n",
              "      <div>\n",
              "<style scoped>\n",
              "    .dataframe tbody tr th:only-of-type {\n",
              "        vertical-align: middle;\n",
              "    }\n",
              "\n",
              "    .dataframe tbody tr th {\n",
              "        vertical-align: top;\n",
              "    }\n",
              "\n",
              "    .dataframe thead th {\n",
              "        text-align: right;\n",
              "    }\n",
              "</style>\n",
              "<table border=\"1\" class=\"dataframe\">\n",
              "  <thead>\n",
              "    <tr style=\"text-align: right;\">\n",
              "      <th></th>\n",
              "      <th></th>\n",
              "      <th>Rating</th>\n",
              "    </tr>\n",
              "    <tr>\n",
              "      <th>Branch</th>\n",
              "      <th>Gender</th>\n",
              "      <th></th>\n",
              "    </tr>\n",
              "  </thead>\n",
              "  <tbody>\n",
              "    <tr>\n",
              "      <th rowspan=\"2\" valign=\"top\">A</th>\n",
              "      <th>Female</th>\n",
              "      <td>6.839130</td>\n",
              "    </tr>\n",
              "    <tr>\n",
              "      <th>Male</th>\n",
              "      <td>7.196089</td>\n",
              "    </tr>\n",
              "    <tr>\n",
              "      <th rowspan=\"2\" valign=\"top\">B</th>\n",
              "      <th>Female</th>\n",
              "      <td>6.876543</td>\n",
              "    </tr>\n",
              "    <tr>\n",
              "      <th>Male</th>\n",
              "      <td>6.762353</td>\n",
              "    </tr>\n",
              "    <tr>\n",
              "      <th rowspan=\"2\" valign=\"top\">C</th>\n",
              "      <th>Female</th>\n",
              "      <td>7.157865</td>\n",
              "    </tr>\n",
              "    <tr>\n",
              "      <th>Male</th>\n",
              "      <td>6.972000</td>\n",
              "    </tr>\n",
              "  </tbody>\n",
              "</table>\n",
              "</div>\n",
              "      <button class=\"colab-df-convert\" onclick=\"convertToInteractive('df-d2e4f399-bb86-4f61-b292-e4eb1a5c14c3')\"\n",
              "              title=\"Convert this dataframe to an interactive table.\"\n",
              "              style=\"display:none;\">\n",
              "        \n",
              "  <svg xmlns=\"http://www.w3.org/2000/svg\" height=\"24px\"viewBox=\"0 0 24 24\"\n",
              "       width=\"24px\">\n",
              "    <path d=\"M0 0h24v24H0V0z\" fill=\"none\"/>\n",
              "    <path d=\"M18.56 5.44l.94 2.06.94-2.06 2.06-.94-2.06-.94-.94-2.06-.94 2.06-2.06.94zm-11 1L8.5 8.5l.94-2.06 2.06-.94-2.06-.94L8.5 2.5l-.94 2.06-2.06.94zm10 10l.94 2.06.94-2.06 2.06-.94-2.06-.94-.94-2.06-.94 2.06-2.06.94z\"/><path d=\"M17.41 7.96l-1.37-1.37c-.4-.4-.92-.59-1.43-.59-.52 0-1.04.2-1.43.59L10.3 9.45l-7.72 7.72c-.78.78-.78 2.05 0 2.83L4 21.41c.39.39.9.59 1.41.59.51 0 1.02-.2 1.41-.59l7.78-7.78 2.81-2.81c.8-.78.8-2.07 0-2.86zM5.41 20L4 18.59l7.72-7.72 1.47 1.35L5.41 20z\"/>\n",
              "  </svg>\n",
              "      </button>\n",
              "      \n",
              "  <style>\n",
              "    .colab-df-container {\n",
              "      display:flex;\n",
              "      flex-wrap:wrap;\n",
              "      gap: 12px;\n",
              "    }\n",
              "\n",
              "    .colab-df-convert {\n",
              "      background-color: #E8F0FE;\n",
              "      border: none;\n",
              "      border-radius: 50%;\n",
              "      cursor: pointer;\n",
              "      display: none;\n",
              "      fill: #1967D2;\n",
              "      height: 32px;\n",
              "      padding: 0 0 0 0;\n",
              "      width: 32px;\n",
              "    }\n",
              "\n",
              "    .colab-df-convert:hover {\n",
              "      background-color: #E2EBFA;\n",
              "      box-shadow: 0px 1px 2px rgba(60, 64, 67, 0.3), 0px 1px 3px 1px rgba(60, 64, 67, 0.15);\n",
              "      fill: #174EA6;\n",
              "    }\n",
              "\n",
              "    [theme=dark] .colab-df-convert {\n",
              "      background-color: #3B4455;\n",
              "      fill: #D2E3FC;\n",
              "    }\n",
              "\n",
              "    [theme=dark] .colab-df-convert:hover {\n",
              "      background-color: #434B5C;\n",
              "      box-shadow: 0px 1px 3px 1px rgba(0, 0, 0, 0.15);\n",
              "      filter: drop-shadow(0px 1px 2px rgba(0, 0, 0, 0.3));\n",
              "      fill: #FFFFFF;\n",
              "    }\n",
              "  </style>\n",
              "\n",
              "      <script>\n",
              "        const buttonEl =\n",
              "          document.querySelector('#df-d2e4f399-bb86-4f61-b292-e4eb1a5c14c3 button.colab-df-convert');\n",
              "        buttonEl.style.display =\n",
              "          google.colab.kernel.accessAllowed ? 'block' : 'none';\n",
              "\n",
              "        async function convertToInteractive(key) {\n",
              "          const element = document.querySelector('#df-d2e4f399-bb86-4f61-b292-e4eb1a5c14c3');\n",
              "          const dataTable =\n",
              "            await google.colab.kernel.invokeFunction('convertToInteractive',\n",
              "                                                     [key], {});\n",
              "          if (!dataTable) return;\n",
              "\n",
              "          const docLinkHtml = 'Like what you see? Visit the ' +\n",
              "            '<a target=\"_blank\" href=https://colab.research.google.com/notebooks/data_table.ipynb>data table notebook</a>'\n",
              "            + ' to learn more about interactive tables.';\n",
              "          element.innerHTML = '';\n",
              "          dataTable['output_type'] = 'display_data';\n",
              "          await google.colab.output.renderOutput(dataTable, element);\n",
              "          const docLink = document.createElement('div');\n",
              "          docLink.innerHTML = docLinkHtml;\n",
              "          element.appendChild(docLink);\n",
              "        }\n",
              "      </script>\n",
              "    </div>\n",
              "  </div>\n",
              "  "
            ]
          },
          "metadata": {},
          "execution_count": 18
        }
      ]
    },
    {
      "cell_type": "code",
      "source": [
        "# Menampilkan grafik rerata rating berdasarkan gender di setiap branch\n",
        "r_gbv = df[(df['Gender'] == 'Male') | (df['Gender'] == 'Female')].groupby(['Branch','Gender']).mean()['Rating'].reset_index()\n",
        "viz2 = sns.barplot(x=r_gbv['Branch'],y=r_gbv['Rating'],orient='v',hue=r_gbv['Gender'])\n",
        "viz2"
      ],
      "metadata": {
        "colab": {
          "base_uri": "https://localhost:8080/",
          "height": 296
        },
        "id": "eL_hK7OhU7Zo",
        "outputId": "d9f02075-fba6-4f67-a9d7-3dadac5e9eea"
      },
      "execution_count": 20,
      "outputs": [
        {
          "output_type": "execute_result",
          "data": {
            "text/plain": [
              "<matplotlib.axes._subplots.AxesSubplot at 0x7fb6a00ee610>"
            ]
          },
          "metadata": {},
          "execution_count": 20
        },
        {
          "output_type": "display_data",
          "data": {
            "text/plain": [
              "<Figure size 432x288 with 1 Axes>"
            ],
            "image/png": "[encoded data removed]"
          },
          "metadata": {
            "needs_background": "light"
          }
        }
      ]
    },
    {
      "cell_type": "code",
      "source": [
        "# Menampilkan proporsi jenis customer menggunakan diagram pie\n",
        "viz3 = df['Customer type'].value_counts().plot(kind='pie', figsize=(10,10), autopct='%.2f')\n",
        "viz3"
      ],
      "metadata": {
        "colab": {
          "base_uri": "https://localhost:8080/",
          "height": 592
        },
        "id": "agWGpMV4TkUR",
        "outputId": "53ecd0d3-4195-4ec8-bb84-d1a142bce088"
      },
      "execution_count": 21,
      "outputs": [
        {
          "output_type": "execute_result",
          "data": {
            "text/plain": [
              "<matplotlib.axes._subplots.AxesSubplot at 0x7fb6a0011510>"
            ]
          },
          "metadata": {},
          "execution_count": 21
        },
        {
          "output_type": "display_data",
          "data": {
            "text/plain": [
              "<Figure size 720x720 with 1 Axes>"
            ],
            "image/png": "[encoded data removed]"
          },
          "metadata": {}
        }
      ]
    },
    {
      "cell_type": "markdown",
      "source": [
        "Proporsi pelanggan member dan non-member hampir seimbang."
      ],
      "metadata": {
        "id": "DgJxpS72s7zv"
      }
    },
    {
      "cell_type": "code",
      "source": [
        "# Menampilkan data rerata rating berdasarkan jenis customer di setiap branch\n",
        "r_mbv = df[(df['Customer type'] == 'Member') | (df['Customer type'] == 'Normal')].groupby(['Branch','Customer type']).mean()['Rating'].reset_index()\n",
        "viz4 = sns.barplot(x=r_mbv['Branch'],y=r_mbv['Rating'],orient='v',hue=r_mbv['Customer type'])\n",
        "viz4"
      ],
      "metadata": {
        "colab": {
          "base_uri": "https://localhost:8080/",
          "height": 296
        },
        "id": "AZokSTKtSivI",
        "outputId": "23b4de9d-f199-4740-a854-8934ee3f65de"
      },
      "execution_count": 22,
      "outputs": [
        {
          "output_type": "execute_result",
          "data": {
            "text/plain": [
              "<matplotlib.axes._subplots.AxesSubplot at 0x7fb6a0087510>"
            ]
          },
          "metadata": {},
          "execution_count": 22
        },
        {
          "output_type": "display_data",
          "data": {
            "text/plain": [
              "<Figure size 432x288 with 1 Axes>"
            ],
            "image/png": "[encoded data removed]"
          },
          "metadata": {
            "needs_background": "light"
          }
        }
      ]
    },
    {
      "cell_type": "markdown",
      "source": [
        "rerata rating berdasarka membership hampir sama. Namun selanjutnya akan diuji apakah perbedaannya signifikan atau tidak."
      ],
      "metadata": {
        "id": "YI8lFvmgtDzw"
      }
    },
    {
      "cell_type": "markdown",
      "source": [
        "## VI. Measures of Central Tendency"
      ],
      "metadata": {
        "id": "HXp0YLfyTQTl"
      }
    },
    {
      "cell_type": "markdown",
      "source": [
        "### 6.1. Mengambil data setiap jenis customer "
      ],
      "metadata": {
        "id": "QlLGM9HETmZU"
      }
    },
    {
      "cell_type": "code",
      "source": [
        "# Slicing jenis customer member\n",
        "member = df[df['Customer type']=='Member']"
      ],
      "metadata": {
        "id": "cVld4y4qYVl0"
      },
      "execution_count": 23,
      "outputs": []
    },
    {
      "cell_type": "code",
      "source": [
        "# Slicing jenis customer non-member\n",
        "non_member = df[df['Customer type']=='Normal']"
      ],
      "metadata": {
        "id": "cIxX8gfRYklz"
      },
      "execution_count": 24,
      "outputs": []
    },
    {
      "cell_type": "markdown",
      "source": [
        "### 6.2. Melihat central tendency dari setiap jenis customer"
      ],
      "metadata": {
        "id": "6Isj-tcwUCzB"
      }
    },
    {
      "cell_type": "code",
      "source": [
        "# descriptive statistics untuk melihat central tendency jenis customer member\n",
        "member.describe().T"
      ],
      "metadata": {
        "colab": {
          "base_uri": "https://localhost:8080/",
          "height": 81
        },
        "id": "a9RVREp5Wxpy",
        "outputId": "d77a89d0-74a9-4c2d-d676-235fc532a9ad"
      },
      "execution_count": 12,
      "outputs": [
        {
          "output_type": "execute_result",
          "data": {
            "text/plain": [
              "        count      mean      std  min  25%  50%  75%   max\n",
              "Rating  501.0  6.940319  1.74938  4.0  5.4  7.0  8.5  10.0"
            ],
            "text/html": [
              "\n",
              "  <div id=\"df-8f2e68e4-d739-452b-8fdc-3675ddf16c8c\">\n",
              "    <div class=\"colab-df-container\">\n",
              "      <div>\n",
              "<style scoped>\n",
              "    .dataframe tbody tr th:only-of-type {\n",
              "        vertical-align: middle;\n",
              "    }\n",
              "\n",
              "    .dataframe tbody tr th {\n",
              "        vertical-align: top;\n",
              "    }\n",
              "\n",
              "    .dataframe thead th {\n",
              "        text-align: right;\n",
              "    }\n",
              "</style>\n",
              "<table border=\"1\" class=\"dataframe\">\n",
              "  <thead>\n",
              "    <tr style=\"text-align: right;\">\n",
              "      <th></th>\n",
              "      <th>count</th>\n",
              "      <th>mean</th>\n",
              "      <th>std</th>\n",
              "      <th>min</th>\n",
              "      <th>25%</th>\n",
              "      <th>50%</th>\n",
              "      <th>75%</th>\n",
              "      <th>max</th>\n",
              "    </tr>\n",
              "  </thead>\n",
              "  <tbody>\n",
              "    <tr>\n",
              "      <th>Rating</th>\n",
              "      <td>501.0</td>\n",
              "      <td>6.940319</td>\n",
              "      <td>1.74938</td>\n",
              "      <td>4.0</td>\n",
              "      <td>5.4</td>\n",
              "      <td>7.0</td>\n",
              "      <td>8.5</td>\n",
              "      <td>10.0</td>\n",
              "    </tr>\n",
              "  </tbody>\n",
              "</table>\n",
              "</div>\n",
              "      <button class=\"colab-df-convert\" onclick=\"convertToInteractive('df-8f2e68e4-d739-452b-8fdc-3675ddf16c8c')\"\n",
              "              title=\"Convert this dataframe to an interactive table.\"\n",
              "              style=\"display:none;\">\n",
              "        \n",
              "  <svg xmlns=\"http://www.w3.org/2000/svg\" height=\"24px\"viewBox=\"0 0 24 24\"\n",
              "       width=\"24px\">\n",
              "    <path d=\"M0 0h24v24H0V0z\" fill=\"none\"/>\n",
              "    <path d=\"M18.56 5.44l.94 2.06.94-2.06 2.06-.94-2.06-.94-.94-2.06-.94 2.06-2.06.94zm-11 1L8.5 8.5l.94-2.06 2.06-.94-2.06-.94L8.5 2.5l-.94 2.06-2.06.94zm10 10l.94 2.06.94-2.06 2.06-.94-2.06-.94-.94-2.06-.94 2.06-2.06.94z\"/><path d=\"M17.41 7.96l-1.37-1.37c-.4-.4-.92-.59-1.43-.59-.52 0-1.04.2-1.43.59L10.3 9.45l-7.72 7.72c-.78.78-.78 2.05 0 2.83L4 21.41c.39.39.9.59 1.41.59.51 0 1.02-.2 1.41-.59l7.78-7.78 2.81-2.81c.8-.78.8-2.07 0-2.86zM5.41 20L4 18.59l7.72-7.72 1.47 1.35L5.41 20z\"/>\n",
              "  </svg>\n",
              "      </button>\n",
              "      \n",
              "  <style>\n",
              "    .colab-df-container {\n",
              "      display:flex;\n",
              "      flex-wrap:wrap;\n",
              "      gap: 12px;\n",
              "    }\n",
              "\n",
              "    .colab-df-convert {\n",
              "      background-color: #E8F0FE;\n",
              "      border: none;\n",
              "      border-radius: 50%;\n",
              "      cursor: pointer;\n",
              "      display: none;\n",
              "      fill: #1967D2;\n",
              "      height: 32px;\n",
              "      padding: 0 0 0 0;\n",
              "      width: 32px;\n",
              "    }\n",
              "\n",
              "    .colab-df-convert:hover {\n",
              "      background-color: #E2EBFA;\n",
              "      box-shadow: 0px 1px 2px rgba(60, 64, 67, 0.3), 0px 1px 3px 1px rgba(60, 64, 67, 0.15);\n",
              "      fill: #174EA6;\n",
              "    }\n",
              "\n",
              "    [theme=dark] .colab-df-convert {\n",
              "      background-color: #3B4455;\n",
              "      fill: #D2E3FC;\n",
              "    }\n",
              "\n",
              "    [theme=dark] .colab-df-convert:hover {\n",
              "      background-color: #434B5C;\n",
              "      box-shadow: 0px 1px 3px 1px rgba(0, 0, 0, 0.15);\n",
              "      filter: drop-shadow(0px 1px 2px rgba(0, 0, 0, 0.3));\n",
              "      fill: #FFFFFF;\n",
              "    }\n",
              "  </style>\n",
              "\n",
              "      <script>\n",
              "        const buttonEl =\n",
              "          document.querySelector('#df-8f2e68e4-d739-452b-8fdc-3675ddf16c8c button.colab-df-convert');\n",
              "        buttonEl.style.display =\n",
              "          google.colab.kernel.accessAllowed ? 'block' : 'none';\n",
              "\n",
              "        async function convertToInteractive(key) {\n",
              "          const element = document.querySelector('#df-8f2e68e4-d739-452b-8fdc-3675ddf16c8c');\n",
              "          const dataTable =\n",
              "            await google.colab.kernel.invokeFunction('convertToInteractive',\n",
              "                                                     [key], {});\n",
              "          if (!dataTable) return;\n",
              "\n",
              "          const docLinkHtml = 'Like what you see? Visit the ' +\n",
              "            '<a target=\"_blank\" href=https://colab.research.google.com/notebooks/data_table.ipynb>data table notebook</a>'\n",
              "            + ' to learn more about interactive tables.';\n",
              "          element.innerHTML = '';\n",
              "          dataTable['output_type'] = 'display_data';\n",
              "          await google.colab.output.renderOutput(dataTable, element);\n",
              "          const docLink = document.createElement('div');\n",
              "          docLink.innerHTML = docLinkHtml;\n",
              "          element.appendChild(docLink);\n",
              "        }\n",
              "      </script>\n",
              "    </div>\n",
              "  </div>\n",
              "  "
            ]
          },
          "metadata": {},
          "execution_count": 12
        }
      ]
    },
    {
      "cell_type": "code",
      "source": [
        "# descriptive statistics untuk melihat central tendency jenis customer non-member\n",
        "non_member.describe().T"
      ],
      "metadata": {
        "colab": {
          "base_uri": "https://localhost:8080/",
          "height": 81
        },
        "id": "bqXDuKa0Wzz5",
        "outputId": "f253987e-0f53-485d-bdbf-ca5de2488508"
      },
      "execution_count": 13,
      "outputs": [
        {
          "output_type": "execute_result",
          "data": {
            "text/plain": [
              "        count     mean       std  min  25%  50%  75%   max\n",
              "Rating  499.0  7.00521  1.688222  4.0  5.7  7.0  8.4  10.0"
            ],
            "text/html": [
              "\n",
              "  <div id=\"df-30770918-f80d-42b0-a11a-dc590c526d77\">\n",
              "    <div class=\"colab-df-container\">\n",
              "      <div>\n",
              "<style scoped>\n",
              "    .dataframe tbody tr th:only-of-type {\n",
              "        vertical-align: middle;\n",
              "    }\n",
              "\n",
              "    .dataframe tbody tr th {\n",
              "        vertical-align: top;\n",
              "    }\n",
              "\n",
              "    .dataframe thead th {\n",
              "        text-align: right;\n",
              "    }\n",
              "</style>\n",
              "<table border=\"1\" class=\"dataframe\">\n",
              "  <thead>\n",
              "    <tr style=\"text-align: right;\">\n",
              "      <th></th>\n",
              "      <th>count</th>\n",
              "      <th>mean</th>\n",
              "      <th>std</th>\n",
              "      <th>min</th>\n",
              "      <th>25%</th>\n",
              "      <th>50%</th>\n",
              "      <th>75%</th>\n",
              "      <th>max</th>\n",
              "    </tr>\n",
              "  </thead>\n",
              "  <tbody>\n",
              "    <tr>\n",
              "      <th>Rating</th>\n",
              "      <td>499.0</td>\n",
              "      <td>7.00521</td>\n",
              "      <td>1.688222</td>\n",
              "      <td>4.0</td>\n",
              "      <td>5.7</td>\n",
              "      <td>7.0</td>\n",
              "      <td>8.4</td>\n",
              "      <td>10.0</td>\n",
              "    </tr>\n",
              "  </tbody>\n",
              "</table>\n",
              "</div>\n",
              "      <button class=\"colab-df-convert\" onclick=\"convertToInteractive('df-30770918-f80d-42b0-a11a-dc590c526d77')\"\n",
              "              title=\"Convert this dataframe to an interactive table.\"\n",
              "              style=\"display:none;\">\n",
              "        \n",
              "  <svg xmlns=\"http://www.w3.org/2000/svg\" height=\"24px\"viewBox=\"0 0 24 24\"\n",
              "       width=\"24px\">\n",
              "    <path d=\"M0 0h24v24H0V0z\" fill=\"none\"/>\n",
              "    <path d=\"M18.56 5.44l.94 2.06.94-2.06 2.06-.94-2.06-.94-.94-2.06-.94 2.06-2.06.94zm-11 1L8.5 8.5l.94-2.06 2.06-.94-2.06-.94L8.5 2.5l-.94 2.06-2.06.94zm10 10l.94 2.06.94-2.06 2.06-.94-2.06-.94-.94-2.06-.94 2.06-2.06.94z\"/><path d=\"M17.41 7.96l-1.37-1.37c-.4-.4-.92-.59-1.43-.59-.52 0-1.04.2-1.43.59L10.3 9.45l-7.72 7.72c-.78.78-.78 2.05 0 2.83L4 21.41c.39.39.9.59 1.41.59.51 0 1.02-.2 1.41-.59l7.78-7.78 2.81-2.81c.8-.78.8-2.07 0-2.86zM5.41 20L4 18.59l7.72-7.72 1.47 1.35L5.41 20z\"/>\n",
              "  </svg>\n",
              "      </button>\n",
              "      \n",
              "  <style>\n",
              "    .colab-df-container {\n",
              "      display:flex;\n",
              "      flex-wrap:wrap;\n",
              "      gap: 12px;\n",
              "    }\n",
              "\n",
              "    .colab-df-convert {\n",
              "      background-color: #E8F0FE;\n",
              "      border: none;\n",
              "      border-radius: 50%;\n",
              "      cursor: pointer;\n",
              "      display: none;\n",
              "      fill: #1967D2;\n",
              "      height: 32px;\n",
              "      padding: 0 0 0 0;\n",
              "      width: 32px;\n",
              "    }\n",
              "\n",
              "    .colab-df-convert:hover {\n",
              "      background-color: #E2EBFA;\n",
              "      box-shadow: 0px 1px 2px rgba(60, 64, 67, 0.3), 0px 1px 3px 1px rgba(60, 64, 67, 0.15);\n",
              "      fill: #174EA6;\n",
              "    }\n",
              "\n",
              "    [theme=dark] .colab-df-convert {\n",
              "      background-color: #3B4455;\n",
              "      fill: #D2E3FC;\n",
              "    }\n",
              "\n",
              "    [theme=dark] .colab-df-convert:hover {\n",
              "      background-color: #434B5C;\n",
              "      box-shadow: 0px 1px 3px 1px rgba(0, 0, 0, 0.15);\n",
              "      filter: drop-shadow(0px 1px 2px rgba(0, 0, 0, 0.3));\n",
              "      fill: #FFFFFF;\n",
              "    }\n",
              "  </style>\n",
              "\n",
              "      <script>\n",
              "        const buttonEl =\n",
              "          document.querySelector('#df-30770918-f80d-42b0-a11a-dc590c526d77 button.colab-df-convert');\n",
              "        buttonEl.style.display =\n",
              "          google.colab.kernel.accessAllowed ? 'block' : 'none';\n",
              "\n",
              "        async function convertToInteractive(key) {\n",
              "          const element = document.querySelector('#df-30770918-f80d-42b0-a11a-dc590c526d77');\n",
              "          const dataTable =\n",
              "            await google.colab.kernel.invokeFunction('convertToInteractive',\n",
              "                                                     [key], {});\n",
              "          if (!dataTable) return;\n",
              "\n",
              "          const docLinkHtml = 'Like what you see? Visit the ' +\n",
              "            '<a target=\"_blank\" href=https://colab.research.google.com/notebooks/data_table.ipynb>data table notebook</a>'\n",
              "            + ' to learn more about interactive tables.';\n",
              "          element.innerHTML = '';\n",
              "          dataTable['output_type'] = 'display_data';\n",
              "          await google.colab.output.renderOutput(dataTable, element);\n",
              "          const docLink = document.createElement('div');\n",
              "          docLink.innerHTML = docLinkHtml;\n",
              "          element.appendChild(docLink);\n",
              "        }\n",
              "      </script>\n",
              "    </div>\n",
              "  </div>\n",
              "  "
            ]
          },
          "metadata": {},
          "execution_count": 13
        }
      ]
    },
    {
      "cell_type": "markdown",
      "source": [
        "## VII. Measures of Variance"
      ],
      "metadata": {
        "id": "9bgGRthJDwu5"
      }
    },
    {
      "cell_type": "markdown",
      "source": [
        "Saya ingin mengetahui sebaran data di sekitar nilai central tendency dengan melihat range, variansi, dan standart deviasi."
      ],
      "metadata": {
        "id": "s2j3hQEE0fwe"
      }
    },
    {
      "cell_type": "markdown",
      "source": [
        "### 7.1. Menghitung Range Data\n",
        "\n",
        "Range data adalah suatu nilai yang menggambarkan jangakauan/selisih nilai data terbesar dan terkecil."
      ],
      "metadata": {
        "id": "LDbQzMvtE5y1"
      }
    },
    {
      "cell_type": "code",
      "source": [
        "# Menghitung range rating dari member customer dan non-member customer\n",
        "print('Range Rating from Member Customer:',member['Rating'].max() - member['Rating'].min())\n",
        "print('Range Rating from Non-Member Customer:',non_member['Rating'].max() - non_member['Rating'].min())"
      ],
      "metadata": {
        "colab": {
          "base_uri": "https://localhost:8080/"
        },
        "id": "OGd6rH79FETr",
        "outputId": "a558c197-83b2-4b09-eaf6-425f38c8f881"
      },
      "execution_count": 25,
      "outputs": [
        {
          "output_type": "stream",
          "name": "stdout",
          "text": [
            "Range Rating from Member Customer: 6.0\n",
            "Range Rating from Non-Member Customer: 6.0\n"
          ]
        }
      ]
    },
    {
      "cell_type": "markdown",
      "source": [
        "### 7.2. Menghitung Variansi Data\n",
        "\n",
        "Variansi data dapat menggambarkan sebearapa jauh titik data menyebar dari rerata. Apabila nilai variansi tinggi, maka titik-titik data tersebar luas. Sebaliknya apabila nilai variansi rendah, maka titik-titik data lebih dekat dengan rerata kumpulan data."
      ],
      "metadata": {
        "id": "eHZ4tHGlGzHT"
      }
    },
    {
      "cell_type": "code",
      "source": [
        "# Variansi data rating dari member customer dan non-member customer\n",
        "print('Varian Rating from Member Customer:', member['Rating'].var())\n",
        "print('Varian Rating from Non-Member Customer:', non_member['Rating'].var())"
      ],
      "metadata": {
        "colab": {
          "base_uri": "https://localhost:8080/"
        },
        "id": "UbC_erxcG7wF",
        "outputId": "8dcf2f54-b394-43d4-b231-b058e69e8794"
      },
      "execution_count": 26,
      "outputs": [
        {
          "output_type": "stream",
          "name": "stdout",
          "text": [
            "Varian Rating from Member Customer: 3.060331097804394\n",
            "Varian Rating from Non-Member Customer: 2.850093278927331\n"
          ]
        }
      ]
    },
    {
      "cell_type": "markdown",
      "source": [
        "### 7.3. Menghitung Standart Deviasi\n",
        "\n",
        "Std merupakan indikator seberapa jauh data statistik menyimpang dan dapat memberi memberi gambaran kualitas data sampel yang diperoleh. Semakin besar nilai Std, maka semakin lebar rentang variasi datanya."
      ],
      "metadata": {
        "id": "uop1ox0FIdU_"
      }
    },
    {
      "cell_type": "code",
      "source": [
        "# Standart Deviasi data rating dari member customer dan non-member customer\n",
        "print('Standart Deviasi Rating from Member Customer:', member['Rating'].std())\n",
        "print('Standart Deviasi Rating from Non-Member Customer:', non_member['Rating'].std())"
      ],
      "metadata": {
        "colab": {
          "base_uri": "https://localhost:8080/"
        },
        "id": "XBaJcn-QJEd8",
        "outputId": "94c11a02-f0a1-4ddc-a90f-87c0d46b27cc"
      },
      "execution_count": 27,
      "outputs": [
        {
          "output_type": "stream",
          "name": "stdout",
          "text": [
            "Standart Deviasi Rating from Member Customer: 1.7493802039020545\n",
            "Standart Deviasi Rating from Non-Member Customer: 1.6882219282213258\n"
          ]
        }
      ]
    },
    {
      "cell_type": "markdown",
      "source": [
        "Dari ketiga perhitungan variabilitas di atas, dapat disimpulkan bahwa data cukup terkumpul di sekitar mean"
      ],
      "metadata": {
        "id": "mgfRzJFDU2HO"
      }
    },
    {
      "cell_type": "markdown",
      "source": [
        "## VIII. Hypothesis Testing"
      ],
      "metadata": {
        "id": "tqCNDh_xJfth"
      }
    },
    {
      "cell_type": "markdown",
      "source": [
        "Saya ingin mengetahui apakah perlu adanya peningkatan fasilitas untuk member customer agar menarik pelanggan non-customer untuk mendaftar member. Keputusan akan dilihat apakah perbedaan rerata rating member customer dan non-member customer signifikan atau tidak. Jika tidak signifikan, maka perlu adanya peningkatan fasilitas agar rating member customer meningkat dan menarik non-member customer untuk mendaftar member.\n",
        "\n",
        "Metode hipotesis testing yang dilakukan adalah 2 sample 2 tailed."
      ],
      "metadata": {
        "id": "Z_FKqkZdU6SN"
      }
    },
    {
      "cell_type": "markdown",
      "source": [
        "### 8.1.Hypothesis Testing\n",
        "\n",
        "mu1 = Mean Rating from Member Customer\n",
        "\n",
        "mu2 = Mean Rating from Non-Member Customer\n",
        "\n",
        "- H0 : mu1 = mu2\n",
        "- H1 : mu1 != mu2"
      ],
      "metadata": {
        "id": "uWDi9aJqZreL"
      }
    },
    {
      "cell_type": "markdown",
      "source": [
        "Rating of Member Customer:\n",
        "- mean = 6.940319\n",
        "- std = 1.74938\t\n",
        "\n",
        "Rating of Non-Member Customer:\n",
        "- mean = 7.00521\n",
        "- std = 1.688222\t"
      ],
      "metadata": {
        "id": "bcAmaotfY8sT"
      }
    },
    {
      "cell_type": "code",
      "source": [
        "# t-test 2 sample 2 tailed\n",
        "t_stat, p_val = stats.ttest_ind(member['Rating'], non_member['Rating'])\n",
        "\n",
        "# ttest_ind is 2-tailed, we dont need to divide by 2\n",
        "print('P-value:',p_val)\n",
        "print('t-statistics:',t_stat)"
      ],
      "metadata": {
        "colab": {
          "base_uri": "https://localhost:8080/"
        },
        "id": "_KTR9hMhZomZ",
        "outputId": "59e3e3d8-d02c-41c1-8ee4-cb13e8a85a0e"
      },
      "execution_count": 28,
      "outputs": [
        {
          "output_type": "stream",
          "name": "stdout",
          "text": [
            "P-value: 0.5507621727856713\n",
            "t-statistics: -0.5968211265254104\n"
          ]
        }
      ]
    },
    {
      "cell_type": "code",
      "source": [
        "# simulation\n",
        "member_pop = np.random.normal(member['Rating'].mean(),member['Rating'].std(),1000000)\n",
        "non_member_pop = np.random.normal(non_member['Rating'].mean(),non_member['Rating'].std(),10000)\n",
        "\n",
        "# confidence interval based on failed\n",
        "# used cv = 0.05 since 2 tailed, we use 0.95 as it is. \n",
        "ci = stats.norm.interval(0.95, member['Rating'].mean(), member['Rating'].std())\n",
        "\n",
        "plt.figure(figsize=(16,5))\n",
        "sns.distplot(member_pop, label='member Rating Stats *Pop',color='red')\n",
        "sns.distplot(non_member_pop, label='non_member Rating Stats *Pop',color='blue')\n",
        "\n",
        "# mean\n",
        "plt.axvline(member['Rating'].mean(), color='red', linewidth=2, label='member Rating mean')\n",
        "plt.axvline(non_member['Rating'].mean(), color='blue',  linewidth=2, label='non_member Rating mean')\n",
        "\n",
        "plt.axvline(ci[1], color='green', linestyle='dashed', linewidth=2, label='confidence threshold of 95%')\n",
        "plt.axvline(ci[0], color='green', linestyle='dashed', linewidth=2, label='confidence threshold of 95%')\n",
        "\n",
        "# alternative hypotesis\n",
        "plt.axvline(member_pop.mean()+t_stat*member_pop.std(), color='black', linestyle='dashed', linewidth=2, label = 'Alternative Hypothesis')\n",
        "plt.axvline(member_pop.mean()-t_stat*member_pop.std(), color='black', linestyle='dashed', linewidth=2)\n",
        "\n",
        "plt.legend()\n",
        "plt.show()\n",
        "print(ci[0])"
      ],
      "metadata": {
        "colab": {
          "base_uri": "https://localhost:8080/",
          "height": 427
        },
        "id": "ryqvKIQKak7w",
        "outputId": "cb9ee60a-eda9-4110-e073-1f635e7a4adc"
      },
      "execution_count": 30,
      "outputs": [
        {
          "output_type": "stream",
          "name": "stderr",
          "text": [
            "/usr/local/lib/python3.7/dist-packages/seaborn/distributions.py:2619: FutureWarning: `distplot` is a deprecated function and will be removed in a future version. Please adapt your code to use either `displot` (a figure-level function with similar flexibility) or `histplot` (an axes-level function for histograms).\n",
            "  warnings.warn(msg, FutureWarning)\n",
            "/usr/local/lib/python3.7/dist-packages/seaborn/distributions.py:2619: FutureWarning: `distplot` is a deprecated function and will be removed in a future version. Please adapt your code to use either `displot` (a figure-level function with similar flexibility) or `histplot` (an axes-level function for histograms).\n",
            "  warnings.warn(msg, FutureWarning)\n"
          ]
        },
        {
          "output_type": "display_data",
          "data": {
            "text/plain": [
              "<Figure size 1152x360 with 1 Axes>"
            ],
            "image/png": "[encoded data removed]"
          },
          "metadata": {
            "needs_background": "light"
          }
        },
        {
          "output_type": "stream",
          "name": "stdout",
          "text": [
            "3.5115971663620837\n"
          ]
        }
      ]
    },
    {
      "cell_type": "markdown",
      "source": [
        "### 8.2. Kesimpulan Hypothesis Testing"
      ],
      "metadata": {
        "id": "uqp5gTvIZXtD"
      }
    },
    {
      "cell_type": "markdown",
      "source": [
        "**Kesimpulan grafik hasil uji hipotesis :**\n",
        "1. Dari grafik tersebut, dapat dilihar bahwa distribusi normal rating member customer dan non-member customer memiliki variansi yang dekat dengan mean.\n",
        "2. P-Value > α, artinya gagal menolak H0.\n",
        "3. Perbedaan antara rerata rating dari member customer dan non-member customer tidak signifikan."
      ],
      "metadata": {
        "id": "kc5InGBpJ2EI"
      }
    },
    {
      "cell_type": "markdown",
      "metadata": {
        "id": "m4UlDWBiidDo"
      },
      "source": [
        "## IX. Pengambilan Kesimpulan"
      ]
    },
    {
      "cell_type": "markdown",
      "source": [
        "1. Rerata rating dari member customer memang lebih tinggi daripada non-customer member. Akan tetapi perbedaan tersebut tidak signifikan sehingga tidak cukup kuat untuk menarik non-member customer untuk mendaftar member.\n",
        "2. Saran untuk tim marketing adalah melakukan peningkatan fasilitas dan penawaran menarik untuk member customer agar rating dari member customer dapat meningkat lagi dan menarik non-member customer untuk mendaftar member."
      ],
      "metadata": {
        "id": "i6d-LMbrNTfN"
      }
    }
  ]
}